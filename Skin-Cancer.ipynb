{
 "cells": [
  {
   "cell_type": "code",
   "execution_count": 2,
   "metadata": {
    "tags": []
   },
   "outputs": [],
   "source": [
    "import tensorflow as tf\n",
    "from tensorflow import keras\n",
    "from keras.preprocessing.image import ImageDataGenerator\n",
    "from keras.models import load_model\n",
    "import tkinter as tk"
   ]
  },
  {
   "cell_type": "code",
   "execution_count": 26,
   "metadata": {
    "tags": []
   },
   "outputs": [],
   "source": [
    "train=r\"C:\\Users\\ANJALI\\Desktop\\Practice\\skin Cancer Dataset\\melanoma_cancer_dataset\\train\""
   ]
  },
  {
   "cell_type": "code",
   "execution_count": 27,
   "metadata": {
    "tags": []
   },
   "outputs": [],
   "source": [
    "test=r\"C:\\Users\\ANJALI\\Desktop\\Practice\\skin Cancer Dataset\\melanoma_cancer_dataset\\test\""
   ]
  },
  {
   "cell_type": "code",
   "execution_count": 28,
   "metadata": {
    "tags": []
   },
   "outputs": [
    {
     "name": "stdout",
     "output_type": "stream",
     "text": [
      "Found 9605 images belonging to 2 classes.\n"
     ]
    }
   ],
   "source": [
    "train_datagen=ImageDataGenerator(rescale=1.0/255)\n",
    "train_generator=train_datagen.flow_from_directory(\n",
    "train,\n",
    "target_size=(150,150),\n",
    "batch_size=20,\n",
    "class_mode=\"binary\"\n",
    ")"
   ]
  },
  {
   "cell_type": "code",
   "execution_count": 29,
   "metadata": {
    "tags": []
   },
   "outputs": [
    {
     "name": "stdout",
     "output_type": "stream",
     "text": [
      "Found 1000 images belonging to 2 classes.\n"
     ]
    }
   ],
   "source": [
    "test_datagen=ImageDataGenerator(rescale=1.0/255)\n",
    "test_generator=test_datagen.flow_from_directory(\n",
    "test,\n",
    "target_size=(150,150),\n",
    "batch_size=20,\n",
    "class_mode=\"binary\"\n",
    ")"
   ]
  },
  {
   "cell_type": "code",
   "execution_count": 30,
   "metadata": {
    "tags": []
   },
   "outputs": [],
   "source": [
    "model = tf.keras.Sequential ([\n",
    "keras.layers.Conv2D(64,(3,3), activation=\"relu\", input_shape=(150,150,3)),\n",
    "keras.layers.MaxPooling2D(2,2),\n",
    "keras.layers.Conv2D(128,(3,3), activation=\"relu\"),\n",
    "keras.layers.MaxPooling2D(2,2),\n",
    "keras.layers.Flatten(),\n",
    "keras.layers.Dense(128, activation=\"relu\"),\n",
    "keras.layers.Dense(1, activation=\"sigmoid\")\n",
    "\n",
    "])"
   ]
  },
  {
   "cell_type": "code",
   "execution_count": 31,
   "metadata": {
    "tags": []
   },
   "outputs": [],
   "source": [
    "model.compile(optimizer=\"adam\",loss=\"binary_crossentropy\",metrics=[\"accuracy\"])"
   ]
  },
  {
   "cell_type": "code",
   "execution_count": 32,
   "metadata": {
    "tags": []
   },
   "outputs": [
    {
     "name": "stdout",
     "output_type": "stream",
     "text": [
      "Model: \"sequential_2\"\n",
      "_________________________________________________________________\n",
      " Layer (type)                Output Shape              Param #   \n",
      "=================================================================\n",
      " conv2d_4 (Conv2D)           (None, 148, 148, 64)      1792      \n",
      "                                                                 \n",
      " max_pooling2d_4 (MaxPooling  (None, 74, 74, 64)       0         \n",
      " 2D)                                                             \n",
      "                                                                 \n",
      " conv2d_5 (Conv2D)           (None, 72, 72, 128)       73856     \n",
      "                                                                 \n",
      " max_pooling2d_5 (MaxPooling  (None, 36, 36, 128)      0         \n",
      " 2D)                                                             \n",
      "                                                                 \n",
      " flatten_2 (Flatten)         (None, 165888)            0         \n",
      "                                                                 \n",
      " dense_4 (Dense)             (None, 128)               21233792  \n",
      "                                                                 \n",
      " dense_5 (Dense)             (None, 1)                 129       \n",
      "                                                                 \n",
      "=================================================================\n",
      "Total params: 21,309,569\n",
      "Trainable params: 21,309,569\n",
      "Non-trainable params: 0\n",
      "_________________________________________________________________\n"
     ]
    }
   ],
   "source": [
    "model.summary()"
   ]
  },
  {
   "cell_type": "code",
   "execution_count": 33,
   "metadata": {
    "tags": []
   },
   "outputs": [
    {
     "name": "stdout",
     "output_type": "stream",
     "text": [
      "Epoch 1/10\n",
      "481/481 [==============================] - 255s 529ms/step - loss: 0.4479 - accuracy: 0.8020 - val_loss: 0.2904 - val_accuracy: 0.8720\n",
      "Epoch 2/10\n",
      "481/481 [==============================] - 262s 546ms/step - loss: 0.3027 - accuracy: 0.8674 - val_loss: 0.2489 - val_accuracy: 0.8960\n",
      "Epoch 3/10\n",
      "481/481 [==============================] - 263s 547ms/step - loss: 0.2768 - accuracy: 0.8827 - val_loss: 0.2520 - val_accuracy: 0.8980\n",
      "Epoch 4/10\n",
      "481/481 [==============================] - 266s 553ms/step - loss: 0.2560 - accuracy: 0.8932 - val_loss: 0.2392 - val_accuracy: 0.8930\n",
      "Epoch 5/10\n",
      "481/481 [==============================] - 263s 547ms/step - loss: 0.2380 - accuracy: 0.9002 - val_loss: 0.2557 - val_accuracy: 0.9030\n",
      "Epoch 6/10\n",
      "481/481 [==============================] - 262s 544ms/step - loss: 0.2346 - accuracy: 0.9001 - val_loss: 0.2333 - val_accuracy: 0.9080\n",
      "Epoch 7/10\n",
      "481/481 [==============================] - 262s 544ms/step - loss: 0.2244 - accuracy: 0.9087 - val_loss: 0.2540 - val_accuracy: 0.9020\n",
      "Epoch 8/10\n",
      "481/481 [==============================] - 262s 544ms/step - loss: 0.2175 - accuracy: 0.9081 - val_loss: 0.2384 - val_accuracy: 0.9020\n",
      "Epoch 9/10\n",
      "481/481 [==============================] - 262s 544ms/step - loss: 0.2059 - accuracy: 0.9158 - val_loss: 0.2893 - val_accuracy: 0.8970\n",
      "Epoch 10/10\n",
      "481/481 [==============================] - 262s 545ms/step - loss: 0.1960 - accuracy: 0.9211 - val_loss: 0.2367 - val_accuracy: 0.9040\n"
     ]
    },
    {
     "data": {
      "text/plain": [
       "<keras.callbacks.History at 0x1ca9ff7cb20>"
      ]
     },
     "execution_count": 33,
     "metadata": {},
     "output_type": "execute_result"
    }
   ],
   "source": [
    "model.fit(train_generator, \n",
    "          epochs= 10 ,\n",
    "          validation_data = test_generator,\n",
    "          verbose=1)"
   ]
  },
  {
   "cell_type": "code",
   "execution_count": null,
   "metadata": {},
   "outputs": [],
   "source": [
    "\n",
    "model = load_model(\"Skin-cancer-detection\")"
   ]
  },
  {
   "cell_type": "code",
   "execution_count": null,
   "metadata": {
    "tags": []
   },
   "outputs": [
    {
     "name": "stdout",
     "output_type": "stream",
     "text": [
      "1/1 [==============================] - 2s 2s/step\n",
      "1/1 [==============================] - 0s 58ms/step\n"
     ]
    }
   ],
   "source": [
    "from tkinter import filedialog, messagebox\n",
    "from PIL import Image\n",
    "import numpy as np\n",
    "melanoma_model = model\n",
    "\n",
    "root = tk.Tk()\n",
    "root.title(\"Skin Cancer Detector\")\n",
    "root.geometry(\"400x400\")\n",
    "\n",
    "image_label = tk.Label(root)\n",
    "image_label.pack(pady=10)\n",
    "\n",
    "prediction_label = tk.Label(root, font=('Helvetica', 18))\n",
    "prediction_label.pack(pady=10)\n",
    "\n",
    "def open_file_dialog():\n",
    "    filenames = filedialog.askopenfilenames(initialdir=\"/\", title=\"Select an Image\",\n",
    "                                          filetypes=[(\"Image Files\", \"*.png. *jpg *.jpeg\")])\n",
    "    if filenames:\n",
    "        for filename in filenames:\n",
    "            image = Image.open(filename)\n",
    "            image = image.resize((150, 150))\n",
    "            image = np.array(image)\n",
    "            if image.shape != (150, 150, 3):\n",
    "                messagebox.showerror(\"Error\", \"The selected image is not of the correct size or shape (150x150x3).\")\n",
    "                return\n",
    "            image = image.reshape(1, 150, 150, 3)\n",
    "            result = melanoma_model.predict(image)\n",
    "            if result > 0.5:\n",
    "                messagebox.showinfo(\"Prediction\", \"The selected image is classified as melanoma.\")\n",
    "            else:\n",
    "                messagebox.showinfo(\"Prediction\", \"The selected image is classified as not melanoma.\")\n",
    "\n",
    "open_file_button = tk.Button(root, text=\"Open file\", command=open_file_dialog)\n",
    "open_file_button.pack(pady=10)\n",
    "\n",
    "root.mainloop()"
   ]
  },
  {
   "cell_type": "code",
   "execution_count": null,
   "metadata": {},
   "outputs": [],
   "source": []
  },
  {
   "cell_type": "code",
   "execution_count": null,
   "metadata": {},
   "outputs": [],
   "source": []
  }
 ],
 "metadata": {
  "kernelspec": {
   "display_name": "Python 3 (ipykernel)",
   "language": "python",
   "name": "python3"
  },
  "language_info": {
   "codemirror_mode": {
    "name": "ipython",
    "version": 3
   },
   "file_extension": ".py",
   "mimetype": "text/x-python",
   "name": "python",
   "nbconvert_exporter": "python",
   "pygments_lexer": "ipython3",
   "version": "3.10.9"
  }
 },
 "nbformat": 4,
 "nbformat_minor": 4
}
